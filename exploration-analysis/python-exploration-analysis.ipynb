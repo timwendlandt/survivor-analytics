{
 "cells": [
  {
   "cell_type": "code",
   "execution_count": 3,
   "id": "25bdf544",
   "metadata": {},
   "outputs": [],
   "source": [
    "import pyodbc"
   ]
  },
  {
   "cell_type": "code",
   "execution_count": 4,
   "id": "d41ed614",
   "metadata": {},
   "outputs": [],
   "source": [
    "#connect to database survivor_data in visual studio\n",
    "conn = pyodbc.connect(\n",
    "    \"Driver={ODBC Driver 17 for SQL Server};\"\n",
    "    \"Server=(localdb)\\\\MSSQLLocalDB;\"\n",
    "    \"Database=survivor_data;\"\n",
    "    \"Trusted_Connection=yes;\")"
   ]
  },
  {
   "cell_type": "code",
   "execution_count": null,
   "id": "0f4d6cda",
   "metadata": {},
   "outputs": [],
   "source": [
    "#how many players have played only once\n",
    "cursor = conn.cursor()\n",
    "cursor.execute(\n",
    "\"SELECT *\n",
    "    FROM \")"
   ]
  }
 ],
 "metadata": {
  "kernelspec": {
   "display_name": "Python 3 (ipykernel)",
   "language": "python",
   "name": "python3"
  },
  "language_info": {
   "codemirror_mode": {
    "name": "ipython",
    "version": 3
   },
   "file_extension": ".py",
   "mimetype": "text/x-python",
   "name": "python",
   "nbconvert_exporter": "python",
   "pygments_lexer": "ipython3",
   "version": "3.11.5"
  }
 },
 "nbformat": 4,
 "nbformat_minor": 5
}
